{
 "cells": [
  {
   "cell_type": "code",
   "execution_count": 1,
   "metadata": {},
   "outputs": [],
   "source": [
    "#Uses artificial recurrent neural network called Long Short Term Memory (LSTM) to predict the closing stock price using past 60 day price\n",
    "import math\n",
    "import pandas_datareader as web\n",
    "import numpy as np\n",
    "import pandas as pd\n",
    "from sklearn.preprocessing import MinMaxScaler\n",
    "from keras.models import Sequential\n",
    "from keras.layers import Dense, LSTM\n",
    "import matplotlib.pyplot as plt\n",
    "plt.style.use('fivethirtyeight')"
   ]
  },
  {
   "cell_type": "code",
   "execution_count": 2,
   "metadata": {},
   "outputs": [],
   "source": [
    "df = pd.read_csv('HistoricRates_BTC(test)')"
   ]
  },
  {
   "cell_type": "code",
   "execution_count": 3,
   "metadata": {},
   "outputs": [],
   "source": [
    "#df = df.set_index(pd.DatetimeIndex(df['date'].values))\n",
    "#df = df.sort_index()"
   ]
  },
  {
   "cell_type": "code",
   "execution_count": 4,
   "metadata": {},
   "outputs": [
    {
     "data": {
      "text/html": [
       "<div>\n",
       "<style scoped>\n",
       "    .dataframe tbody tr th:only-of-type {\n",
       "        vertical-align: middle;\n",
       "    }\n",
       "\n",
       "    .dataframe tbody tr th {\n",
       "        vertical-align: top;\n",
       "    }\n",
       "\n",
       "    .dataframe thead th {\n",
       "        text-align: right;\n",
       "    }\n",
       "</style>\n",
       "<table border=\"1\" class=\"dataframe\">\n",
       "  <thead>\n",
       "    <tr style=\"text-align: right;\">\n",
       "      <th></th>\n",
       "      <th>low</th>\n",
       "      <th>high</th>\n",
       "      <th>open</th>\n",
       "      <th>close</th>\n",
       "      <th>volume</th>\n",
       "      <th>date</th>\n",
       "    </tr>\n",
       "  </thead>\n",
       "  <tbody>\n",
       "    <tr>\n",
       "      <th>0</th>\n",
       "      <td>7630.00</td>\n",
       "      <td>8187.03</td>\n",
       "      <td>8037.73</td>\n",
       "      <td>7934.52</td>\n",
       "      <td>25563.614175</td>\n",
       "      <td>2020-08-03</td>\n",
       "    </tr>\n",
       "    <tr>\n",
       "      <th>1</th>\n",
       "      <td>7733.56</td>\n",
       "      <td>8158.25</td>\n",
       "      <td>7934.56</td>\n",
       "      <td>7894.68</td>\n",
       "      <td>17172.471301</td>\n",
       "      <td>2020-09-03</td>\n",
       "    </tr>\n",
       "    <tr>\n",
       "      <th>2</th>\n",
       "      <td>7583.27</td>\n",
       "      <td>7987.97</td>\n",
       "      <td>7894.68</td>\n",
       "      <td>7938.05</td>\n",
       "      <td>13647.865139</td>\n",
       "      <td>2020-10-03</td>\n",
       "    </tr>\n",
       "    <tr>\n",
       "      <th>3</th>\n",
       "      <td>4644.00</td>\n",
       "      <td>7969.45</td>\n",
       "      <td>7938.05</td>\n",
       "      <td>4857.10</td>\n",
       "      <td>113902.203329</td>\n",
       "      <td>2020-11-03</td>\n",
       "    </tr>\n",
       "    <tr>\n",
       "      <th>4</th>\n",
       "      <td>3858.00</td>\n",
       "      <td>5995.00</td>\n",
       "      <td>4857.10</td>\n",
       "      <td>5637.60</td>\n",
       "      <td>130316.646844</td>\n",
       "      <td>2020-12-03</td>\n",
       "    </tr>\n",
       "    <tr>\n",
       "      <th>...</th>\n",
       "      <td>...</td>\n",
       "      <td>...</td>\n",
       "      <td>...</td>\n",
       "      <td>...</td>\n",
       "      <td>...</td>\n",
       "      <td>...</td>\n",
       "    </tr>\n",
       "    <tr>\n",
       "      <th>295</th>\n",
       "      <td>25833.73</td>\n",
       "      <td>27396.77</td>\n",
       "      <td>27039.39</td>\n",
       "      <td>27366.35</td>\n",
       "      <td>20668.104338</td>\n",
       "      <td>2020-12-28</td>\n",
       "    </tr>\n",
       "    <tr>\n",
       "      <th>296</th>\n",
       "      <td>27311.73</td>\n",
       "      <td>29018.26</td>\n",
       "      <td>27366.35</td>\n",
       "      <td>28897.42</td>\n",
       "      <td>28181.496815</td>\n",
       "      <td>2020-12-29</td>\n",
       "    </tr>\n",
       "    <tr>\n",
       "      <th>297</th>\n",
       "      <td>28000.00</td>\n",
       "      <td>29321.90</td>\n",
       "      <td>28897.42</td>\n",
       "      <td>28990.08</td>\n",
       "      <td>28813.886911</td>\n",
       "      <td>2020-12-30</td>\n",
       "    </tr>\n",
       "    <tr>\n",
       "      <th>298</th>\n",
       "      <td>28700.00</td>\n",
       "      <td>29688.88</td>\n",
       "      <td>28990.08</td>\n",
       "      <td>29412.84</td>\n",
       "      <td>22211.252518</td>\n",
       "      <td>2020-12-31</td>\n",
       "    </tr>\n",
       "    <tr>\n",
       "      <th>299</th>\n",
       "      <td>29039.00</td>\n",
       "      <td>33165.00</td>\n",
       "      <td>29413.29</td>\n",
       "      <td>32791.47</td>\n",
       "      <td>25452.663252</td>\n",
       "      <td>2021-01-01</td>\n",
       "    </tr>\n",
       "  </tbody>\n",
       "</table>\n",
       "<p>300 rows × 6 columns</p>\n",
       "</div>"
      ],
      "text/plain": [
       "          low      high      open     close         volume        date\n",
       "0     7630.00   8187.03   8037.73   7934.52   25563.614175  2020-08-03\n",
       "1     7733.56   8158.25   7934.56   7894.68   17172.471301  2020-09-03\n",
       "2     7583.27   7987.97   7894.68   7938.05   13647.865139  2020-10-03\n",
       "3     4644.00   7969.45   7938.05   4857.10  113902.203329  2020-11-03\n",
       "4     3858.00   5995.00   4857.10   5637.60  130316.646844  2020-12-03\n",
       "..        ...       ...       ...       ...            ...         ...\n",
       "295  25833.73  27396.77  27039.39  27366.35   20668.104338  2020-12-28\n",
       "296  27311.73  29018.26  27366.35  28897.42   28181.496815  2020-12-29\n",
       "297  28000.00  29321.90  28897.42  28990.08   28813.886911  2020-12-30\n",
       "298  28700.00  29688.88  28990.08  29412.84   22211.252518  2020-12-31\n",
       "299  29039.00  33165.00  29413.29  32791.47   25452.663252  2021-01-01\n",
       "\n",
       "[300 rows x 6 columns]"
      ]
     },
     "execution_count": 4,
     "metadata": {},
     "output_type": "execute_result"
    }
   ],
   "source": [
    "df"
   ]
  },
  {
   "cell_type": "code",
   "execution_count": 5,
   "metadata": {},
   "outputs": [
    {
     "data": {
      "image/png": "[encoded data removed]",
      "text/plain": [
       "<Figure size 900x432 with 1 Axes>"
      ]
     },
     "metadata": {},
     "output_type": "display_data"
    }
   ],
   "source": [
    "plt.figure(figsize=(12.5, 6))\n",
    "\n",
    "plt.plot(df['close'], label='Close')\n",
    "plt.xlabel('Aug. 01, 2020 - Jan. 01, 2021')\n",
    "plt.ylabel('Close Price USD ($)')\n",
    "plt.legend(loc='upper left')\n",
    "plt.show()"
   ]
  },
  {
   "cell_type": "code",
   "execution_count": 6,
   "metadata": {},
   "outputs": [
    {
     "data": {
      "text/plain": [
       "240"
      ]
     },
     "execution_count": 6,
     "metadata": {},
     "output_type": "execute_result"
    }
   ],
   "source": [
    "#Create DF with only \"close\"\n",
    "data = df.filter(['close'])\n",
    "#Convert to array\n",
    "dataset = data.values\n",
    "#Get number of rows to train model on\n",
    "training_data_len = math.ceil( len(dataset) *.8) \n",
    "training_data_len"
   ]
  },
  {
   "cell_type": "code",
   "execution_count": 7,
   "metadata": {},
   "outputs": [],
   "source": [
    "#Scale the data\n",
    "scaler = MinMaxScaler(feature_range=(0,1))\n",
    "scaled_data = scaler.fit_transform(dataset)"
   ]
  },
  {
   "cell_type": "code",
   "execution_count": 8,
   "metadata": {},
   "outputs": [
    {
     "name": "stdout",
     "output_type": "stream",
     "text": [
      "[array([0.11016608, 0.10873988, 0.11029245, 0.        , 0.02794049,\n",
      "       0.01103121, 0.01747847, 0.00646193, 0.01699018, 0.01992313,\n",
      "       0.04758153, 0.04829176, 0.04802972, 0.03440743, 0.05847742,\n",
      "       0.06835808, 0.06564888, 0.06805523, 0.05424357, 0.04992846,\n",
      "       0.0365181 , 0.05546214, 0.05610472, 0.06475929, 0.06971412,\n",
      "       0.06747566, 0.07222894, 0.0687737 , 0.08893918, 0.08387195,\n",
      "       0.08996122, 0.08720941, 0.07212656, 0.07276162, 0.07342317,\n",
      "       0.07174352, 0.07232202, 0.06325612, 0.08074426, 0.07805295,\n",
      "       0.08608249, 0.08139113, 0.07091944, 0.07147396, 0.08161058,\n",
      "       0.09421118, 0.09513513, 0.0963154 , 0.10199979, 0.10498429,\n",
      "       0.10373994, 0.14092496, 0.13485824, 0.14220188, 0.14779213,\n",
      "       0.14508471, 0.14413892, 0.14933897, 0.15388534, 0.18427729])]\n",
      "[0.1773048756782415]\n",
      "\n",
      "[array([0.11016608, 0.10873988, 0.11029245, 0.        , 0.02794049,\n",
      "       0.01103121, 0.01747847, 0.00646193, 0.01699018, 0.01992313,\n",
      "       0.04758153, 0.04829176, 0.04802972, 0.03440743, 0.05847742,\n",
      "       0.06835808, 0.06564888, 0.06805523, 0.05424357, 0.04992846,\n",
      "       0.0365181 , 0.05546214, 0.05610472, 0.06475929, 0.06971412,\n",
      "       0.06747566, 0.07222894, 0.0687737 , 0.08893918, 0.08387195,\n",
      "       0.08996122, 0.08720941, 0.07212656, 0.07276162, 0.07342317,\n",
      "       0.07174352, 0.07232202, 0.06325612, 0.08074426, 0.07805295,\n",
      "       0.08608249, 0.08139113, 0.07091944, 0.07147396, 0.08161058,\n",
      "       0.09421118, 0.09513513, 0.0963154 , 0.10199979, 0.10498429,\n",
      "       0.10373994, 0.14092496, 0.13485824, 0.14220188, 0.14779213,\n",
      "       0.14508471, 0.14413892, 0.14933897, 0.15388534, 0.18427729]), array([0.10873988, 0.11029245, 0.        , 0.02794049, 0.01103121,\n",
      "       0.01747847, 0.00646193, 0.01699018, 0.01992313, 0.04758153,\n",
      "       0.04829176, 0.04802972, 0.03440743, 0.05847742, 0.06835808,\n",
      "       0.06564888, 0.06805523, 0.05424357, 0.04992846, 0.0365181 ,\n",
      "       0.05546214, 0.05610472, 0.06475929, 0.06971412, 0.06747566,\n",
      "       0.07222894, 0.0687737 , 0.08893918, 0.08387195, 0.08996122,\n",
      "       0.08720941, 0.07212656, 0.07276162, 0.07342317, 0.07174352,\n",
      "       0.07232202, 0.06325612, 0.08074426, 0.07805295, 0.08608249,\n",
      "       0.08139113, 0.07091944, 0.07147396, 0.08161058, 0.09421118,\n",
      "       0.09513513, 0.0963154 , 0.10199979, 0.10498429, 0.10373994,\n",
      "       0.14092496, 0.13485824, 0.14220188, 0.14779213, 0.14508471,\n",
      "       0.14413892, 0.14933897, 0.15388534, 0.18427729, 0.17730488])]\n",
      "[0.1773048756782415, 0.16753948630307391]\n",
      "\n"
     ]
    }
   ],
   "source": [
    "#Create the training data set\n",
    "#Create the sacled training data set\n",
    "\n",
    "train_data = scaled_data[0:training_data_len , :]\n",
    "#Split the data into x_train and y_train data sets\n",
    "x_train = []\n",
    "y_train = []\n",
    "\n",
    "for i in range(60, len(train_data)):\n",
    "    x_train.append(train_data[i-60:i, 0])\n",
    "    y_train.append(train_data[i, 0])\n",
    "    if i <= 61:\n",
    "        print(x_train)\n",
    "        print(y_train)\n",
    "        print()"
   ]
  },
  {
   "cell_type": "code",
   "execution_count": null,
   "metadata": {},
   "outputs": [],
   "source": []
  },
  {
   "cell_type": "code",
   "execution_count": 9,
   "metadata": {},
   "outputs": [],
   "source": [
    "#Convert the x_train and y_train to numpy arrays\n",
    "x_train, y_train = np.array(x_train), np.array(y_train)"
   ]
  },
  {
   "cell_type": "code",
   "execution_count": 10,
   "metadata": {},
   "outputs": [
    {
     "data": {
      "text/plain": [
       "(180, 60, 1)"
      ]
     },
     "execution_count": 10,
     "metadata": {},
     "output_type": "execute_result"
    }
   ],
   "source": [
    "#Reshape the data\n",
    "x_train = np.reshape(x_train, (x_train.shape[0], x_train.shape[1], 1))\n",
    "x_train.shape"
   ]
  },
  {
   "cell_type": "code",
   "execution_count": 11,
   "metadata": {},
   "outputs": [],
   "source": [
    "#Build LSTM model\n",
    "model = Sequential()\n",
    "model.add(LSTM(50, return_sequences=True, input_shape = (x_train.shape[1], 1)))\n",
    "model.add(LSTM(50, return_sequences=False))\n",
    "model.add(Dense(25))\n",
    "model.add(Dense(1))"
   ]
  },
  {
   "cell_type": "code",
   "execution_count": 12,
   "metadata": {},
   "outputs": [],
   "source": [
    "#Compile the model\n",
    "model.compile(optimizer = 'adam', loss='mean_squared_error')"
   ]
  },
  {
   "cell_type": "code",
   "execution_count": 13,
   "metadata": {},
   "outputs": [
    {
     "name": "stdout",
     "output_type": "stream",
     "text": [
      "180/180 [==============================] - 5s 16ms/step - loss: 0.0035\n"
     ]
    },
    {
     "data": {
      "text/plain": [
       "<tensorflow.python.keras.callbacks.History at 0x21e3cd04b08>"
      ]
     },
     "execution_count": 13,
     "metadata": {},
     "output_type": "execute_result"
    }
   ],
   "source": [
    "#Train the model\n",
    "model.fit(x_train, y_train, batch_size=1, epochs=1)"
   ]
  },
  {
   "cell_type": "code",
   "execution_count": 14,
   "metadata": {},
   "outputs": [],
   "source": [
    "#Create the testing data set\n",
    "#Create the new array containing scaled values from rest of data\n",
    "test_data = scaled_data[training_data_len - 60: , :]\n",
    "#Create the data sets x_test and y_test\n",
    "x_test = []\n",
    "y_test = dataset[training_data_len:, :]\n",
    "for i in range(60, len(test_data)):\n",
    "    x_test.append(test_data[i-60:i, 0])\n"
   ]
  },
  {
   "cell_type": "code",
   "execution_count": 15,
   "metadata": {},
   "outputs": [
    {
     "data": {
      "text/plain": [
       "(60, 60)"
      ]
     },
     "execution_count": 15,
     "metadata": {},
     "output_type": "execute_result"
    }
   ],
   "source": [
    "#Convert the data to array\n",
    "x_test = np.array(x_test)\n",
    "x_test.shape"
   ]
  },
  {
   "cell_type": "code",
   "execution_count": 16,
   "metadata": {},
   "outputs": [],
   "source": [
    "#Reshape the data\n",
    "x_test = np.reshape(x_test, (x_test.shape[0], x_test.shape[1], 1))"
   ]
  },
  {
   "cell_type": "code",
   "execution_count": 17,
   "metadata": {},
   "outputs": [],
   "source": [
    "#Get the models predicted price values\n",
    "predictions = model.predict(x_test)\n",
    "predictions = scaler.inverse_transform(predictions)"
   ]
  },
  {
   "cell_type": "code",
   "execution_count": 18,
   "metadata": {},
   "outputs": [],
   "source": [
    "#Get the models predicted price values\n",
    "predictions = model.predict(x_test)\n",
    "predictions = scaler.inverse_transform(predictions)"
   ]
  },
  {
   "cell_type": "code",
   "execution_count": 19,
   "metadata": {},
   "outputs": [
    {
     "data": {
      "text/plain": [
       "907.784490234375"
      ]
     },
     "execution_count": 19,
     "metadata": {},
     "output_type": "execute_result"
    }
   ],
   "source": [
    "#Get the root mean squared error (RMSE)\n",
    "rmse = np.sqrt(np.mean(predictions - y_test)**2)\n",
    "rmse"
   ]
  },
  {
   "cell_type": "code",
   "execution_count": 20,
   "metadata": {},
   "outputs": [
    {
     "name": "stderr",
     "output_type": "stream",
     "text": [
      "C:\\Users\\jwkon\\anaconda3\\envs\\tensor\\lib\\site-packages\\ipykernel_launcher.py:4: SettingWithCopyWarning: \n",
      "A value is trying to be set on a copy of a slice from a DataFrame.\n",
      "Try using .loc[row_indexer,col_indexer] = value instead\n",
      "\n",
      "See the caveats in the documentation: https://pandas.pydata.org/pandas-docs/stable/user_guide/indexing.html#returning-a-view-versus-a-copy\n",
      "  after removing the cwd from sys.path.\n"
     ]
    },
    {
     "data": {
      "image/png": "[encoded data removed]",
      "text/plain": [
       "<Figure size 1152x576 with 1 Axes>"
      ]
     },
     "metadata": {},
     "output_type": "display_data"
    }
   ],
   "source": [
    "#Plot the data\n",
    "train = data[:training_data_len]\n",
    "valid = data[training_data_len:]\n",
    "valid['Predictions'] = predictions\n",
    "#Visualize the data\n",
    "plt.figure(figsize=(16,8))\n",
    "plt.title('Model')\n",
    "plt.xlabel('Date', fontsize=18)\n",
    "plt.ylabel('Close Price USD ($)', fontsize=18)\n",
    "plt.plot(train['close'])\n",
    "plt.plot(valid[['close', 'Predictions']])\n",
    "plt.legend(['Train', 'Val', 'Predictions'], loc='lower right')\n",
    "plt.show()"
   ]
  },
  {
   "cell_type": "code",
   "execution_count": 21,
   "metadata": {},
   "outputs": [
    {
     "data": {
      "text/html": [
       "<div>\n",
       "<style scoped>\n",
       "    .dataframe tbody tr th:only-of-type {\n",
       "        vertical-align: middle;\n",
       "    }\n",
       "\n",
       "    .dataframe tbody tr th {\n",
       "        vertical-align: top;\n",
       "    }\n",
       "\n",
       "    .dataframe thead th {\n",
       "        text-align: right;\n",
       "    }\n",
       "</style>\n",
       "<table border=\"1\" class=\"dataframe\">\n",
       "  <thead>\n",
       "    <tr style=\"text-align: right;\">\n",
       "      <th></th>\n",
       "      <th>close</th>\n",
       "      <th>Predictions</th>\n",
       "    </tr>\n",
       "  </thead>\n",
       "  <tbody>\n",
       "    <tr>\n",
       "      <th>240</th>\n",
       "      <td>14161.48</td>\n",
       "      <td>13965.841797</td>\n",
       "    </tr>\n",
       "    <tr>\n",
       "      <th>241</th>\n",
       "      <td>15608.21</td>\n",
       "      <td>14075.431641</td>\n",
       "    </tr>\n",
       "    <tr>\n",
       "      <th>242</th>\n",
       "      <td>15599.95</td>\n",
       "      <td>14246.452148</td>\n",
       "    </tr>\n",
       "    <tr>\n",
       "      <th>243</th>\n",
       "      <td>14834.09</td>\n",
       "      <td>14454.727539</td>\n",
       "    </tr>\n",
       "    <tr>\n",
       "      <th>244</th>\n",
       "      <td>15482.90</td>\n",
       "      <td>14646.465820</td>\n",
       "    </tr>\n",
       "  </tbody>\n",
       "</table>\n",
       "</div>"
      ],
      "text/plain": [
       "        close   Predictions\n",
       "240  14161.48  13965.841797\n",
       "241  15608.21  14075.431641\n",
       "242  15599.95  14246.452148\n",
       "243  14834.09  14454.727539\n",
       "244  15482.90  14646.465820"
      ]
     },
     "execution_count": 21,
     "metadata": {},
     "output_type": "execute_result"
    }
   ],
   "source": [
    "#Show valid and predicted prices\n",
    "valid.head()"
   ]
  },
  {
   "cell_type": "code",
   "execution_count": null,
   "metadata": {},
   "outputs": [],
   "source": [
    "#Get the quote\n"
   ]
  }
 ],
 "metadata": {
  "kernelspec": {
   "display_name": "Python 3",
   "language": "python",
   "name": "python3"
  },
  "language_info": {
   "codemirror_mode": {
    "name": "ipython",
    "version": 3
   },
   "file_extension": ".py",
   "mimetype": "text/x-python",
   "name": "python",
   "nbconvert_exporter": "python",
   "pygments_lexer": "ipython3",
   "version": "3.9.1"
  }
 },
 "nbformat": 4,
 "nbformat_minor": 4
}
